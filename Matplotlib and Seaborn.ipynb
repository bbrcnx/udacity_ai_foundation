{
 "cells": [
  {
   "cell_type": "code",
   "execution_count": 1,
   "metadata": {},
   "outputs": [],
   "source": [
    "import numpy as np\n",
    "import pandas as pd\n",
    "import matplotlib.pyplot as plt\n",
    "import seaborn as sb\n",
    "\n",
    "%matplotlib inline"
   ]
  },
  {
   "cell_type": "code",
   "execution_count": 3,
   "metadata": {
    "scrolled": false
   },
   "outputs": [
    {
     "name": "stdout",
     "output_type": "stream",
     "text": [
      "(807, 14)\n"
     ]
    },
    {
     "data": {
      "text/html": [
       "<div>\n",
       "<style scoped>\n",
       "    .dataframe tbody tr th:only-of-type {\n",
       "        vertical-align: middle;\n",
       "    }\n",
       "\n",
       "    .dataframe tbody tr th {\n",
       "        vertical-align: top;\n",
       "    }\n",
       "\n",
       "    .dataframe thead th {\n",
       "        text-align: right;\n",
       "    }\n",
       "</style>\n",
       "<table border=\"1\" class=\"dataframe\">\n",
       "  <thead>\n",
       "    <tr style=\"text-align: right;\">\n",
       "      <th></th>\n",
       "      <th>id</th>\n",
       "      <th>species</th>\n",
       "      <th>generation_id</th>\n",
       "      <th>height</th>\n",
       "      <th>weight</th>\n",
       "      <th>base_experience</th>\n",
       "      <th>type_1</th>\n",
       "      <th>type_2</th>\n",
       "      <th>hp</th>\n",
       "      <th>attack</th>\n",
       "      <th>defense</th>\n",
       "      <th>speed</th>\n",
       "      <th>special-attack</th>\n",
       "      <th>special-defense</th>\n",
       "    </tr>\n",
       "  </thead>\n",
       "  <tbody>\n",
       "    <tr>\n",
       "      <th>0</th>\n",
       "      <td>1</td>\n",
       "      <td>bulbasaur</td>\n",
       "      <td>1</td>\n",
       "      <td>0.7</td>\n",
       "      <td>6.9</td>\n",
       "      <td>64</td>\n",
       "      <td>grass</td>\n",
       "      <td>poison</td>\n",
       "      <td>45</td>\n",
       "      <td>49</td>\n",
       "      <td>49</td>\n",
       "      <td>45</td>\n",
       "      <td>65</td>\n",
       "      <td>65</td>\n",
       "    </tr>\n",
       "    <tr>\n",
       "      <th>1</th>\n",
       "      <td>2</td>\n",
       "      <td>ivysaur</td>\n",
       "      <td>1</td>\n",
       "      <td>1.0</td>\n",
       "      <td>13.0</td>\n",
       "      <td>142</td>\n",
       "      <td>grass</td>\n",
       "      <td>poison</td>\n",
       "      <td>60</td>\n",
       "      <td>62</td>\n",
       "      <td>63</td>\n",
       "      <td>60</td>\n",
       "      <td>80</td>\n",
       "      <td>80</td>\n",
       "    </tr>\n",
       "    <tr>\n",
       "      <th>2</th>\n",
       "      <td>3</td>\n",
       "      <td>venusaur</td>\n",
       "      <td>1</td>\n",
       "      <td>2.0</td>\n",
       "      <td>100.0</td>\n",
       "      <td>236</td>\n",
       "      <td>grass</td>\n",
       "      <td>poison</td>\n",
       "      <td>80</td>\n",
       "      <td>82</td>\n",
       "      <td>83</td>\n",
       "      <td>80</td>\n",
       "      <td>100</td>\n",
       "      <td>100</td>\n",
       "    </tr>\n",
       "    <tr>\n",
       "      <th>3</th>\n",
       "      <td>4</td>\n",
       "      <td>charmander</td>\n",
       "      <td>1</td>\n",
       "      <td>0.6</td>\n",
       "      <td>8.5</td>\n",
       "      <td>62</td>\n",
       "      <td>fire</td>\n",
       "      <td>NaN</td>\n",
       "      <td>39</td>\n",
       "      <td>52</td>\n",
       "      <td>43</td>\n",
       "      <td>65</td>\n",
       "      <td>60</td>\n",
       "      <td>50</td>\n",
       "    </tr>\n",
       "    <tr>\n",
       "      <th>4</th>\n",
       "      <td>5</td>\n",
       "      <td>charmeleon</td>\n",
       "      <td>1</td>\n",
       "      <td>1.1</td>\n",
       "      <td>19.0</td>\n",
       "      <td>142</td>\n",
       "      <td>fire</td>\n",
       "      <td>NaN</td>\n",
       "      <td>58</td>\n",
       "      <td>64</td>\n",
       "      <td>58</td>\n",
       "      <td>80</td>\n",
       "      <td>80</td>\n",
       "      <td>65</td>\n",
       "    </tr>\n",
       "    <tr>\n",
       "      <th>5</th>\n",
       "      <td>6</td>\n",
       "      <td>charizard</td>\n",
       "      <td>1</td>\n",
       "      <td>1.7</td>\n",
       "      <td>90.5</td>\n",
       "      <td>240</td>\n",
       "      <td>fire</td>\n",
       "      <td>flying</td>\n",
       "      <td>78</td>\n",
       "      <td>84</td>\n",
       "      <td>78</td>\n",
       "      <td>100</td>\n",
       "      <td>109</td>\n",
       "      <td>85</td>\n",
       "    </tr>\n",
       "    <tr>\n",
       "      <th>6</th>\n",
       "      <td>7</td>\n",
       "      <td>squirtle</td>\n",
       "      <td>1</td>\n",
       "      <td>0.5</td>\n",
       "      <td>9.0</td>\n",
       "      <td>63</td>\n",
       "      <td>water</td>\n",
       "      <td>NaN</td>\n",
       "      <td>44</td>\n",
       "      <td>48</td>\n",
       "      <td>65</td>\n",
       "      <td>43</td>\n",
       "      <td>50</td>\n",
       "      <td>64</td>\n",
       "    </tr>\n",
       "    <tr>\n",
       "      <th>7</th>\n",
       "      <td>8</td>\n",
       "      <td>wartortle</td>\n",
       "      <td>1</td>\n",
       "      <td>1.0</td>\n",
       "      <td>22.5</td>\n",
       "      <td>142</td>\n",
       "      <td>water</td>\n",
       "      <td>NaN</td>\n",
       "      <td>59</td>\n",
       "      <td>63</td>\n",
       "      <td>80</td>\n",
       "      <td>58</td>\n",
       "      <td>65</td>\n",
       "      <td>80</td>\n",
       "    </tr>\n",
       "    <tr>\n",
       "      <th>8</th>\n",
       "      <td>9</td>\n",
       "      <td>blastoise</td>\n",
       "      <td>1</td>\n",
       "      <td>1.6</td>\n",
       "      <td>85.5</td>\n",
       "      <td>239</td>\n",
       "      <td>water</td>\n",
       "      <td>NaN</td>\n",
       "      <td>79</td>\n",
       "      <td>83</td>\n",
       "      <td>100</td>\n",
       "      <td>78</td>\n",
       "      <td>85</td>\n",
       "      <td>105</td>\n",
       "    </tr>\n",
       "    <tr>\n",
       "      <th>9</th>\n",
       "      <td>10</td>\n",
       "      <td>caterpie</td>\n",
       "      <td>1</td>\n",
       "      <td>0.3</td>\n",
       "      <td>2.9</td>\n",
       "      <td>39</td>\n",
       "      <td>bug</td>\n",
       "      <td>NaN</td>\n",
       "      <td>45</td>\n",
       "      <td>30</td>\n",
       "      <td>35</td>\n",
       "      <td>45</td>\n",
       "      <td>20</td>\n",
       "      <td>20</td>\n",
       "    </tr>\n",
       "  </tbody>\n",
       "</table>\n",
       "</div>"
      ],
      "text/plain": [
       "   id     species  generation_id  height  weight  base_experience type_1  \\\n",
       "0   1   bulbasaur              1     0.7     6.9               64  grass   \n",
       "1   2     ivysaur              1     1.0    13.0              142  grass   \n",
       "2   3    venusaur              1     2.0   100.0              236  grass   \n",
       "3   4  charmander              1     0.6     8.5               62   fire   \n",
       "4   5  charmeleon              1     1.1    19.0              142   fire   \n",
       "5   6   charizard              1     1.7    90.5              240   fire   \n",
       "6   7    squirtle              1     0.5     9.0               63  water   \n",
       "7   8   wartortle              1     1.0    22.5              142  water   \n",
       "8   9   blastoise              1     1.6    85.5              239  water   \n",
       "9  10    caterpie              1     0.3     2.9               39    bug   \n",
       "\n",
       "   type_2  hp  attack  defense  speed  special-attack  special-defense  \n",
       "0  poison  45      49       49     45              65               65  \n",
       "1  poison  60      62       63     60              80               80  \n",
       "2  poison  80      82       83     80             100              100  \n",
       "3     NaN  39      52       43     65              60               50  \n",
       "4     NaN  58      64       58     80              80               65  \n",
       "5  flying  78      84       78    100             109               85  \n",
       "6     NaN  44      48       65     43              50               64  \n",
       "7     NaN  59      63       80     58              65               80  \n",
       "8     NaN  79      83      100     78              85              105  \n",
       "9     NaN  45      30       35     45              20               20  "
      ]
     },
     "execution_count": 3,
     "metadata": {},
     "output_type": "execute_result"
    }
   ],
   "source": [
    "pokemon = pd.read_csv('pokemon.csv')\n",
    "print(pokemon.shape)\n",
    "pokemon.head(10)"
   ]
  },
  {
   "cell_type": "code",
   "execution_count": 3,
   "metadata": {
    "scrolled": true
   },
   "outputs": [
    {
     "data": {
      "image/png": "[encoded data removed]",
      "text/plain": [
       "<Figure size 432x288 with 1 Axes>"
      ]
     },
     "metadata": {},
     "output_type": "display_data"
    }
   ],
   "source": [
    "# get index of order\n",
    "gen_order = pokemon['generation_id'].value_counts().index\n",
    "\n",
    "sb.countplot(data = pokemon, x='generation_id', color=sb.color_palette()[0], order = gen_order);"
   ]
  },
  {
   "cell_type": "markdown",
   "metadata": {},
   "source": [
    "**xticks**"
   ]
  },
  {
   "cell_type": "code",
   "execution_count": 4,
   "metadata": {},
   "outputs": [
    {
     "data": {
      "image/png": "[encoded data removed]",
      "text/plain": [
       "<Figure size 432x288 with 1 Axes>"
      ]
     },
     "metadata": {},
     "output_type": "display_data"
    }
   ],
   "source": [
    "type_order = pokemon['type_1'].value_counts().index\n",
    "\n",
    "sb.countplot(data = pokemon, x = 'type_1', color = sb.color_palette()[0], order=type_order);\n",
    "\n",
    "# xticks: Rotate label by 90 degree\n",
    "plt.xticks(rotation = 45);"
   ]
  },
  {
   "cell_type": "code",
   "execution_count": 5,
   "metadata": {
    "scrolled": false
   },
   "outputs": [
    {
     "data": {
      "image/png": "[encoded data removed]",
      "text/plain": [
       "<Figure size 432x288 with 1 Axes>"
      ]
     },
     "metadata": {},
     "output_type": "display_data"
    }
   ],
   "source": [
    "type_order = pokemon['type_1'].value_counts().index\n",
    "\n",
    "sb.countplot(data = pokemon, y = 'type_1', color = sb.color_palette()[0], order=type_order);"
   ]
  },
  {
   "cell_type": "code",
   "execution_count": 6,
   "metadata": {},
   "outputs": [
    {
     "data": {
      "text/html": [
       "<div>\n",
       "<style scoped>\n",
       "    .dataframe tbody tr th:only-of-type {\n",
       "        vertical-align: middle;\n",
       "    }\n",
       "\n",
       "    .dataframe tbody tr th {\n",
       "        vertical-align: top;\n",
       "    }\n",
       "\n",
       "    .dataframe thead th {\n",
       "        text-align: right;\n",
       "    }\n",
       "</style>\n",
       "<table border=\"1\" class=\"dataframe\">\n",
       "  <thead>\n",
       "    <tr style=\"text-align: right;\">\n",
       "      <th></th>\n",
       "      <th>id</th>\n",
       "      <th>species</th>\n",
       "      <th>type_level</th>\n",
       "      <th>type</th>\n",
       "    </tr>\n",
       "  </thead>\n",
       "  <tbody>\n",
       "    <tr>\n",
       "      <th>803</th>\n",
       "      <td>804</td>\n",
       "      <td>naganadel</td>\n",
       "      <td>type_1</td>\n",
       "      <td>poison</td>\n",
       "    </tr>\n",
       "    <tr>\n",
       "      <th>804</th>\n",
       "      <td>805</td>\n",
       "      <td>stakataka</td>\n",
       "      <td>type_1</td>\n",
       "      <td>rock</td>\n",
       "    </tr>\n",
       "    <tr>\n",
       "      <th>805</th>\n",
       "      <td>806</td>\n",
       "      <td>blacephalon</td>\n",
       "      <td>type_1</td>\n",
       "      <td>fire</td>\n",
       "    </tr>\n",
       "    <tr>\n",
       "      <th>806</th>\n",
       "      <td>807</td>\n",
       "      <td>zeraora</td>\n",
       "      <td>type_1</td>\n",
       "      <td>electric</td>\n",
       "    </tr>\n",
       "    <tr>\n",
       "      <th>807</th>\n",
       "      <td>1</td>\n",
       "      <td>bulbasaur</td>\n",
       "      <td>type_2</td>\n",
       "      <td>poison</td>\n",
       "    </tr>\n",
       "    <tr>\n",
       "      <th>808</th>\n",
       "      <td>2</td>\n",
       "      <td>ivysaur</td>\n",
       "      <td>type_2</td>\n",
       "      <td>poison</td>\n",
       "    </tr>\n",
       "    <tr>\n",
       "      <th>809</th>\n",
       "      <td>3</td>\n",
       "      <td>venusaur</td>\n",
       "      <td>type_2</td>\n",
       "      <td>poison</td>\n",
       "    </tr>\n",
       "    <tr>\n",
       "      <th>812</th>\n",
       "      <td>6</td>\n",
       "      <td>charizard</td>\n",
       "      <td>type_2</td>\n",
       "      <td>flying</td>\n",
       "    </tr>\n",
       "    <tr>\n",
       "      <th>818</th>\n",
       "      <td>12</td>\n",
       "      <td>butterfree</td>\n",
       "      <td>type_2</td>\n",
       "      <td>flying</td>\n",
       "    </tr>\n",
       "  </tbody>\n",
       "</table>\n",
       "</div>"
      ],
      "text/plain": [
       "      id      species type_level      type\n",
       "803  804    naganadel     type_1    poison\n",
       "804  805    stakataka     type_1      rock\n",
       "805  806  blacephalon     type_1      fire\n",
       "806  807      zeraora     type_1  electric\n",
       "807    1    bulbasaur     type_2    poison\n",
       "808    2      ivysaur     type_2    poison\n",
       "809    3     venusaur     type_2    poison\n",
       "812    6    charizard     type_2    flying\n",
       "818   12   butterfree     type_2    flying"
      ]
     },
     "execution_count": 6,
     "metadata": {},
     "output_type": "execute_result"
    }
   ],
   "source": [
    "pkmn_types = pokemon.melt(id_vars=['id','species'], value_vars=['type_1', 'type_2'],var_name='type_level',value_name='type').dropna()\n",
    "pkmn_types[803:812]"
   ]
  },
  {
   "cell_type": "code",
   "execution_count": 7,
   "metadata": {},
   "outputs": [],
   "source": [
    "type_counts = pkmn_types['type'].value_counts()\n",
    "type_order = type_counts.index"
   ]
  },
  {
   "cell_type": "code",
   "execution_count": 8,
   "metadata": {},
   "outputs": [
    {
     "data": {
      "image/png": "[encoded data removed]",
      "text/plain": [
       "<Figure size 432x288 with 1 Axes>"
      ]
     },
     "metadata": {},
     "output_type": "display_data"
    }
   ],
   "source": [
    "base_color = sb.color_palette()[0]\n",
    "sb.countplot(data = pkmn_types, y='type', color=base_color, order=type_order);"
   ]
  },
  {
   "cell_type": "code",
   "execution_count": 9,
   "metadata": {},
   "outputs": [
    {
     "name": "stdout",
     "output_type": "stream",
     "text": [
      "0.1623296158612144\n"
     ]
    }
   ],
   "source": [
    "n_pokemon = pokemon.shape[0]\n",
    "max_type_counts = type_counts[0]\n",
    "max_prop = max_type_counts / n_pokemon\n",
    "print(max_prop)"
   ]
  },
  {
   "cell_type": "code",
   "execution_count": 10,
   "metadata": {
    "scrolled": false
   },
   "outputs": [
    {
     "name": "stdout",
     "output_type": "stream",
     "text": [
      "[0.   0.02 0.04 0.06 0.08 0.1  0.12 0.14 0.16]\n",
      "['0.00', '0.02', '0.04', '0.06', '0.08', '0.10', '0.12', '0.14', '0.16']\n"
     ]
    }
   ],
   "source": [
    "tick_props = np.arange(0, max_prop, 0.02)\n",
    "print(tick_props)\n",
    "tick_names = ['{:0.2f}'.format(v) for v in tick_props ]\n",
    "print(tick_names)"
   ]
  },
  {
   "cell_type": "code",
   "execution_count": 26,
   "metadata": {
    "scrolled": true
   },
   "outputs": [
    {
     "name": "stdout",
     "output_type": "stream",
     "text": [
      "[  0.    16.14  32.28  48.42  64.56  80.7   96.84 112.98 129.12]\n"
     ]
    },
    {
     "data": {
      "image/png": "[encoded data removed]",
      "text/plain": [
       "<Figure size 432x288 with 1 Axes>"
      ]
     },
     "metadata": {},
     "output_type": "display_data"
    }
   ],
   "source": [
    "print(n_pokemon * tick_props)\n",
    "sb.countplot(data = pkmn_types, y='type', color=base_color, order=type_order);\n",
    "#plt.xticks(tick_props * n_pokemon, tick_names);\n",
    "#plt.xlabel('proportion')\n",
    "\n",
    "for i in range(type_counts.shape[0]):\n",
    "    count = type_counts[i]\n",
    "    pct_string = '{:0.1f}%'.format(100 * count / n_pokemon)\n",
    "    plt.text(count+2, i, pct_string, va = 'center')"
   ]
  },
  {
   "cell_type": "code",
   "execution_count": 38,
   "metadata": {
    "scrolled": false
   },
   "outputs": [
    {
     "name": "stdout",
     "output_type": "stream",
     "text": [
      "Index is: \n",
      " Index(['id', 'species', 'generation_id', 'height', 'weight', 'base_experience',\n",
      "       'type_1', 'type_2', 'hp', 'attack', 'defense', 'speed',\n",
      "       'special-attack', 'special-defense'],\n",
      "      dtype='object') Value is:  ['id' 'species' 'generation_id' 'height' 'weight' 'base_experience'\n",
      " 'type_1' 'type_2' 'hp' 'attack' 'defense' 'speed' 'special-attack'\n",
      " 'special-defense']\n"
     ]
    },
    {
     "data": {
      "text/plain": [
       "(array([ 0,  1,  2,  3,  4,  5,  6,  7,  8,  9, 10, 11, 12, 13]),\n",
       " <a list of 14 Text xticklabel objects>)"
      ]
     },
     "execution_count": 38,
     "metadata": {},
     "output_type": "execute_result"
    },
    {
     "data": {
      "image/png": "[encoded data removed]",
      "text/plain": [
       "<Figure size 432x288 with 1 Axes>"
      ]
     },
     "metadata": {},
     "output_type": "display_data"
    }
   ],
   "source": [
    "na_counts = pokemon.isna().sum()\n",
    "#print(na_counts)\n",
    "print('Index is: \\n', na_counts.index, 'Value is: ', na_counts.index.values)\n",
    "base_color = sb.color_palette()[1]\n",
    "\n",
    "#The first value is colume name ,the second value is colume value.\n",
    "sb.barplot(na_counts.index.values, na_counts, color = base_color);\n",
    "plt.xticks(rotation=45)"
   ]
  },
  {
   "cell_type": "markdown",
   "metadata": {},
   "source": [
    "### Histgram"
   ]
  },
  {
   "cell_type": "code",
   "execution_count": 16,
   "metadata": {
    "scrolled": true
   },
   "outputs": [
    {
     "data": {
      "image/png": "[encoded data removed]",
      "text/plain": [
       "<Figure size 432x288 with 1 Axes>"
      ]
     },
     "metadata": {},
     "output_type": "display_data"
    }
   ],
   "source": [
    "# bins 指的是每一条的宽度。\n",
    "# arange可以用来协助找到bin的宽度值\n",
    "bins = np.arange(0, pokemon['speed'].max() + 5, 5)\n",
    "plt.hist(data = pokemon, x = 'speed', bins = bins);"
   ]
  },
  {
   "cell_type": "markdown",
   "metadata": {},
   "source": [
    "#### subplot, figure"
   ]
  },
  {
   "cell_type": "code",
   "execution_count": 21,
   "metadata": {},
   "outputs": [
    {
     "data": {
      "image/png": "[encoded data removed]",
      "text/plain": [
       "<Figure size 720x360 with 2 Axes>"
      ]
     },
     "metadata": {},
     "output_type": "display_data"
    }
   ],
   "source": [
    "# Larger figure size for subplots\n",
    "# figure 就是图片的意思。下面的[10, 5] 指图片的长宽。\n",
    "plt.figure(figsize = [10, 5]) \n",
    "# histgram on left, example of too-large bin size.\n",
    "plt.subplot(1,2,1) # 1 raw 2 colume, subplot 1\n",
    "bin_edge = np.arange(0, pokemon['speed'].max() + 4, 4)\n",
    "plt.hist(data = pokemon, x = 'speed', bins = bin_edge);\n",
    "\n",
    "# histgram on right, example of too-small bin size.\n",
    "plt.subplot(1, 2, 2) # 1 row, 2 cols, subplot2\n",
    "bin_edge = np.arange(0, pokemon['speed'].max() + 1/4, 1/4)\n",
    "plt.hist(data =pokemon, x = 'speed', bins = bin_edge);\n",
    "\n"
   ]
  },
  {
   "cell_type": "markdown",
   "metadata": {},
   "source": [
    "#### distplot\n",
    "\n",
    "distplot 生成的曲线面积为1.\n",
    "\n",
    "sb.distplot可以自适应，快速的自动生成比较好的bin size，如果想快速的看一下效果可以用distplot，但是大多数情况下如果只是想看histgram 最好还是用matplot 的hist。如果想用类似这种曲线功能可以考虑用 distplot。"
   ]
  },
  {
   "cell_type": "code",
   "execution_count": 14,
   "metadata": {
    "scrolled": false
   },
   "outputs": [
    {
     "name": "stderr",
     "output_type": "stream",
     "text": [
      "C:\\ProgramData\\Anaconda3\\lib\\site-packages\\matplotlib\\axes\\_axes.py:6462: UserWarning: The 'normed' kwarg is deprecated, and has been replaced by the 'density' kwarg.\n",
      "  warnings.warn(\"The 'normed' kwarg is deprecated, and has been \"\n"
     ]
    },
    {
     "data": {
      "image/png": "[encoded data removed]",
      "text/plain": [
       "<Figure size 432x288 with 1 Axes>"
      ]
     },
     "metadata": {},
     "output_type": "display_data"
    }
   ],
   "source": [
    "# sb.distplot 也可以生成histgram\n",
    "sb.distplot(pokemon['speed']);"
   ]
  },
  {
   "cell_type": "markdown",
   "metadata": {},
   "source": [
    "### Choosing a Plot for Discrete Data\n",
    "\n",
    "If you want to plot a discrete quantitative variable, there’s a couple of ideas that you’ll want to consider. Since data points fall on set values, it can help to reduce ambiguity by putting bin edges between the actual values taken by the data. Your readers may not know that values on bin edges end up in the bin to their right, so this can help remove potential confusion. Compare the two visualizations of 100 random die rolls below (in die_rolls), with bin edges on the values on the left, and bin edges in between values on the right.\n",
    "\n",
    "```python\n",
    "plt.figure(figsize = [10, 5])\n",
    "\n",
    "# histogram on the left, bin edges on integers\n",
    "plt.subplot(1, 2, 1)\n",
    "bin_edges = np.arange(2, 12+1.1, 1) # note `+1.1`, see below\n",
    "plt.hist(die_rolls, bins = bin_edges)\n",
    "plt.xticks(np.arange(2, 12+1, 1))\n",
    "\n",
    "# histogram on the right, bin edges between integers\n",
    "plt.subplot(1, 2, 2)\n",
    "bin_edges = np.arange(1.5, 12.5+1, 1)\n",
    "plt.hist(die_rolls, bins = bin_edges)\n",
    "plt.xticks(np.arange(2, 12+1, 1))\n",
    "```\n",
    "![18090202.jpg](img/18090202.jpg)\n",
    "\n",
    "The same data is plotted in both subplots, but the alignment of the bin edges is different.\n",
    "You'll notice for the left histogram, in a deviation from the examples that have come before, I've added 1.1 to the max value (12) for setting the bin edges, rather than just the desired bin width of 1. Recall that data that is equal to the rightmost bin edge gets lumped in to the last bin. This presents a potential problem in perception when a lot of data points take the maximum value, and so is especially relevant when the data takes on discrete values. The 1.1 adds an additional bin to the end to store the die rolls of value 12 alone, to avoid having the last bar catch both 11 and 12.\n",
    "\n",
    "As an additional step, consider if a bar chart with non-connected bins might serve your purposes better. The plot below takes the code from before, but adds the \"rwidth\" parameter to set the proportion of the bin widths that will be filled by each histogram bar.\n",
    "\n",
    "```python\n",
    "bin_edges = np.arange(1.5, 12.5+1, 1)\n",
    "plt.hist(die_rolls, bins = bin_edges, rwidth = 0.7)\n",
    "plt.xticks(np.arange(2, 12+1, 1))\n",
    "```\n",
    "![18090201.jpg](img/18090201.jpg)\n",
    "Gaps between bars makes it clear that the data is discrete in nature.\n",
    "By adding gaps between bars, you emphasize the fact that the data is discrete in value. On the other hand, plotting your quantitative data in this manner might cause it to be interpreted as ordinal-type data, which can have an effect on overall perception.\n",
    "\n",
    "For continuous numeric data, you should not make use of the \"rwidth\" parameter, since the gaps imply discreteness of value. As another caution, it might be tempting to use seaborn's countplot function to plot the distribution of a discrete numeric variable as bars. Be careful about doing this, since each unique numeric value will get a bar, regardless of the spacing in values between bars. Also, even if your data is technically discrete numeric, you should probably not consider either of the variants depicted on this page unless the number of unique values is small enough to allow for the half-unit shift or discrete bars to be interpretable. If you have a large number of unique values over a large enough range, it's better to stick with the standard histogram than risk interpretability issues.\n",
    "\n",
    "While you might justify plotting discrete numeric data using a bar chart, you’ll be less apt to justify the opposite: plotting ordinal data as a histogram. The space between bars in a bar chart helps to remind the reader that values are not contiguous in an ‘interval’-type fashion: only that there is an order in levels. With that space removed as in a histogram, it's harder to remember this important bit of interpretation."
   ]
  },
  {
   "cell_type": "markdown",
   "metadata": {},
   "source": [
    "### Xlim\n",
    "### Descriptive Statistics, Outliers, and Axis Limits\n",
    "As you create your plots and perform your exploration, make sure that you pay attention to what the plots tell you that go beyond just the basic descriptive statistics. Note any aspects of the data like number of modes and skew, and note the presence of outliers in the data for further investigation.\n",
    "\n",
    "Related to the latter point, you might need to change the limits or scale of what is plotted to take a closer look at the underlying patterns in the data. This page covers the topic of axis limits; the next the topic of scales and transformations. In order to change a histogram's axis limits, you can add a Matplotlib xlim call to your code. The function takes a tuple of two numbers specifying the left and right bounds of the region to plot. Alternatively, the xlim function can be called with two numeric arguments to the same result.\n",
    "\n",
    "```python\n",
    "plt.figure(figsize = [10, 5])\n",
    "\n",
    "# histogram on left: full data\n",
    "plt.subplot(1, 2, 1)\n",
    "bin_edges = np.arange(0, df['skew_var'].max()+2.5, 2.5)\n",
    "plt.hist(data = df, x = 'skew_var', bins = bin_edges)\n",
    "\n",
    "# histogram on right: focus in on bulk of data < 35\n",
    "plt.subplot(1, 2, 2)\n",
    "bin_edges = np.arange(0, 35+1, 1)\n",
    "plt.hist(data = df, x = 'skew_var', bins = bin_edges)\n",
    "plt.xlim(0, 35) # could also be called as plt.xlim((0, 35))\n",
    "```\n",
    "![18090207.jpg](img/18090207.jpg)\n",
    "In the generic example above, we might be interested in comparing patterns in other variables between data points that take values less than 35 to those that take values greater than 35. For anything that is concentrated on the bulk of the data in the former group (< 35), use of axis limits can allow focusing on data points in that range without needing to go through creation of a new DataFrame filtering out the data points in the latter group (> 35)."
   ]
  },
  {
   "cell_type": "markdown",
   "metadata": {},
   "source": [
    "### Scale and Transformations"
   ]
  },
  {
   "cell_type": "code",
   "execution_count": 22,
   "metadata": {},
   "outputs": [
    {
     "data": {
      "image/png": "[encoded data removed]",
      "text/plain": [
       "<Figure size 432x288 with 1 Axes>"
      ]
     },
     "metadata": {},
     "output_type": "display_data"
    }
   ],
   "source": [
    "bins = np.arange(0, pokemon['weight'].max()+40, 40)\n",
    "plt.hist(data=pokemon, x='weight', bins=bins);\n"
   ]
  },
  {
   "cell_type": "code",
   "execution_count": 25,
   "metadata": {
    "scrolled": true
   },
   "outputs": [
    {
     "data": {
      "image/png": "[encoded data removed]",
      "text/plain": [
       "<Figure size 432x288 with 1 Axes>"
      ]
     },
     "metadata": {},
     "output_type": "display_data"
    }
   ],
   "source": [
    "bins = np.arange(0, pokemon['weight'].max()+40, 40)\n",
    "plt.hist(data=pokemon, x='weight', bins=bins);\n",
    "plt.xscale('log')"
   ]
  },
  {
   "cell_type": "code",
   "execution_count": 26,
   "metadata": {},
   "outputs": [
    {
     "data": {
      "text/plain": [
       "count    807.000000\n",
       "mean      61.771128\n",
       "std      111.519355\n",
       "min        0.100000\n",
       "25%        9.000000\n",
       "50%       27.000000\n",
       "75%       63.000000\n",
       "max      999.900000\n",
       "Name: weight, dtype: float64"
      ]
     },
     "execution_count": 26,
     "metadata": {},
     "output_type": "execute_result"
    }
   ],
   "source": [
    "pokemon['weight'].describe()"
   ]
  },
  {
   "cell_type": "code",
   "execution_count": 27,
   "metadata": {
    "scrolled": true
   },
   "outputs": [
    {
     "data": {
      "text/plain": [
       "count    807.000000\n",
       "mean       1.364366\n",
       "std        0.670968\n",
       "min       -1.000000\n",
       "25%        0.954243\n",
       "50%        1.431364\n",
       "75%        1.799341\n",
       "max        2.999957\n",
       "Name: weight, dtype: float64"
      ]
     },
     "execution_count": 27,
     "metadata": {},
     "output_type": "execute_result"
    }
   ],
   "source": [
    "np.log10(pokemon['weight']).describe()"
   ]
  },
  {
   "cell_type": "code",
   "execution_count": 33,
   "metadata": {
    "scrolled": true
   },
   "outputs": [
    {
     "data": {
      "image/png": "[encoded data removed]",
      "text/plain": [
       "<Figure size 432x288 with 1 Axes>"
      ]
     },
     "metadata": {},
     "output_type": "display_data"
    }
   ],
   "source": [
    "bins = 10 ** np.arange(-1, 3 + 0.1, 0.1)\n",
    "plt.hist(data = pokemon, x = 'weight', bins = bins);\n",
    "plt.xscale('log')"
   ]
  },
  {
   "cell_type": "code",
   "execution_count": 34,
   "metadata": {},
   "outputs": [
    {
     "data": {
      "image/png": "[encoded data removed]",
      "text/plain": [
       "<Figure size 432x288 with 1 Axes>"
      ]
     },
     "metadata": {},
     "output_type": "display_data"
    }
   ],
   "source": [
    "bins = 10 ** np.arange(-1, 3 + 0.1, 0.1)\n",
    "ticks = [0.1, 0.3, 1, 3, 10, 30, 100, 300, 1000]\n",
    "labels = ['{}'.format(v) for v in ticks]\n",
    "plt.hist(data = pokemon, x = 'weight', bins = bins);\n",
    "plt.xscale('log');\n",
    "plt.xticks(ticks, labels);"
   ]
  },
  {
   "cell_type": "markdown",
   "metadata": {},
   "source": [
    "### Scales and Transformations\n",
    "\n",
    "Certain data distributions will find themselves amenable to scale transformations. The most common example of this is data that follows an approximately log-normal distribution. This is data that, in their natural units, can look highly skewed: lots of points with low values, with a very long tail of data points with large values. Take the logarithm of those values, however, and the data looks normally distributed.\n",
    "```python\n",
    "plt.figure(figsize = [10, 5])\n",
    "\n",
    "# histogram on left: natural units\n",
    "plt.subplot(1, 2, 1)\n",
    "bin_edges = np.arange(0, ln_data.max()+100, 100)\n",
    "plt.hist(ln_data, bins = bin_edges)\n",
    "\n",
    "# histogram on right: directly log-transform data\n",
    "plt.subplot(1, 2, 2)\n",
    "log_ln_data = np.log10(ln_data)\n",
    "log_bin_edges = np.arange(0.8, log_ln_data.max()+0.1, 0.1)\n",
    "plt.hist(log_ln_data, bins = log_bin_edges)\n",
    "plt.xlabel('log(values)') # add axis label for clarity\n",
    "```\n",
    "(Documentation: [numpy log10](https://docs.scipy.org/doc/numpy/reference/generated/numpy.log10.html), [matplotlib xlabel](https://matplotlib.org/api/_as_gen/matplotlib.pyplot.xlabel.html))\n",
    "\n",
    "![18090203.jpg](img/18090203.jpg)\n",
    "\n",
    "In the left plot, the high-value points above 1000 mash most of the points into the bins on the far left. With the right plot, the logarithmic transform makes those points look in line with the rest, with the data looking unimodal overall. The big problem with the right-side plot is that the units on the x-axis are difficult to interpret: for most people, it is only easy to convert from log values to natural values on the integers (and this assumes a nice base like 10 as used in the example).\n",
    "\n",
    "This is where scale transformations are handy. In a scale transformation, the gaps between values are based on the transformed scale, but you can interpret data in the variable's natural units. It is also a convenient approach since you won't need to engineer new features. Matplotlib's xscale function includes a few built-in transformations: we'll use the 'log' scale here.\n",
    "```python\n",
    "bin_edges = np.arange(0, ln_data.max()+100, 100)\n",
    "plt.hist(ln_data, bins = bin_edges)\n",
    "plt.xscale('log')\n",
    "```\n",
    "![18090204.jpg](img/18090204.jpg)\n",
    "\n",
    "Notice two things about the plot now. Even though the data is on a log scale, the bins are still linearly spaced. This means that they change size from wide on the left to thin on the right, as the values increase multiplicatively. Secondly, the default label settings are still somewhat tricky to interpret, and are sparse as well.\n",
    "\n",
    "To address the bin size issue, we just need to change them so that they are evenly-spaced powers of 10. Depending on what you are plotting, a different base power like 2 might be useful instead. For the ticks, we can use xticks to specify locations and labels in their natural units. Remember: we aren't changing the values taken by the data, only how they're displayed. Between integer powers of 10, we don't have clean values for even markings, but we can still get close. Setting ticks in cycles of 1-3-10 or 1-2-5-10 are very useful for base-10 log transforms.\n",
    "\n",
    "```python\n",
    "bin_edges = 10 ** np.arange(0.8, np.log10(ln_data.max())+0.1, 0.1)\n",
    "plt.hist(ln_data, bins = bin_edges)\n",
    "plt.xscale('log')\n",
    "tick_locs = [10, 30, 100, 300, 1000, 3000]\n",
    "plt.xticks(tick_locs, tick_locs)\n",
    "```\n",
    "It is important that the xticks are specified after xscale since that function has its own built-in tick settings.\n",
    "![18090205.jpg](img/18090205.jpg)\n",
    "\n",
    "We've ended up with the same plot as when we performed the direct log transform, but now with a much nicer set of tick marks and labels.\n",
    "\n",
    "####Alternative Approach\n",
    "Be aware that a logarithmic transform is not the only one possible. When we perform a logarithmic transform, our data values have to all be positive; it's impossible to take a log of zero or a negative number. In addition, the transformation implies that additive steps on the log scale will result in multiplicative changes in the natural scale, an important implication when it comes to data modeling. The type of transform that you choose may be informed by the context for the data. For example, this Wikipedia section provides a few examples of places where log-normal distributions have been observed.\n",
    "\n",
    "If you want to use a different transformation that's not available in xscale, then you'll have to perform some feature engineering. In cases like this, we want to be systematic by writing a function that applies both the transformation and its inverse. The inverse will be useful in cases where we specify values in their transformed units and need to get the natural units back. For the purposes of demonstration, let's say that we want to try plotting the above data on a square-root transformation. (Perhaps the numbers represent areas, and we think it makes sense to model the data on a rough estimation of radius, length, or some other 1-d dimension.) We can create a visualization on this transformed scale like this:\n",
    "\n",
    "```python\n",
    "def sqrt_trans(x, inverse = False):\n",
    "    \"\"\" transformation helper function \"\"\"\n",
    "    if not inverse:\n",
    "        return np.sqrt(x)\n",
    "    else:\n",
    "        return x ** 2\n",
    "\n",
    "bin_edges = np.arange(0, sqrt_trans(ln_data.max())+1, 1)\n",
    "plt.hist(ln_data.apply(sqrt_trans), bins = bin_edges)\n",
    "tick_locs = np.arange(0, sqrt_trans(ln_data.max())+10, 10)\n",
    "plt.xticks(tick_locs, sqrt_trans(tick_locs, inverse = True).astype(int))\n",
    "```\n",
    "Note that ln_data is a pandas Series, so we can use the apply method for the function. If it were a NumPy Array, we would need to apply the function like in the other cases. The tick locations could have also been specified with the natural values, where we apply the standard transform function on the first argument of xticks instead.\n",
    "\n",
    "![18090206.jpg](img/18090206.jpg)"
   ]
  },
  {
   "cell_type": "markdown",
   "metadata": {},
   "source": [
    "At the end of this lesson and the next, you’ll find some extra concepts that didn’t really fit into the main flow. These concepts will cover a few additional univariate plots that you might be interested in using or might observe in your own research. While bar charts and histograms should cover your most common needs, the plots in this section might prove useful for both the exploratory and explanatory sides of data visualization.\n",
    "\n",
    "----\n",
    "\n",
    "### Kernel Density Estimation\n",
    "Earlier in this lesson, you saw an example of [kernel density estimation (KDE)](https://en.wikipedia.org/wiki/Kernel_density_estimation) through the use of seaborn's distplot function, which plots a KDE on top of a histogram.\n",
    "\n",
    "```python\n",
    "sb.distplot(df['num_var'])\n",
    "```\n",
    "![18090208.jpg](img/18090208.jpg)\n",
    "\n",
    "Kernel density estimation is one way of estimating the probability density function of a variable. In a KDE plot, you can think of each observation as replaced by a small ‘lump’ of area. Stacking these lumps all together produces the final density curve. The default settings use a normal-distribution kernel, but most software that can produce KDE plots also include other kernel function options.\n",
    "\n",
    "Seaborn's distplot function calls another function, kdeplot, to generate the KDE. The demonstration code below also uses a third function called by distplot for illustration, rugplot. In a rugplot, data points are depicted as dashes on a number line.\n",
    "\n",
    "```python\n",
    "data = [0.0, 3.0, 4.5, 8.0]\n",
    "plt.figure(figsize = [12, 5])\n",
    "\n",
    "# left plot: showing kde lumps with the default settings\n",
    "plt.subplot(1, 3, 1)\n",
    "sb.distplot(data, hist = False, rug = True, rug_kws = {'color' : 'r'})\n",
    "\n",
    "# central plot: kde with narrow bandwidth to show individual probability lumps\n",
    "plt.subplot(1, 3, 2)\n",
    "sb.distplot(data, hist = False, rug = True, rug_kws = {'color' : 'r'},\n",
    "            kde_kws = {'bw' : 1})\n",
    "\n",
    "# right plot: choosing a different, triangular kernel function (lump shape)\n",
    "plt.subplot(1, 3, 3)\n",
    "sb.distplot(data, hist = False, rug = True, rug_kws = {'color' : 'r'},\n",
    "            kde_kws = {'bw' : 1.5, 'kernel' : 'tri'})\n",
    "```\n",
    "![18090209.jpg](img/18090209.jpg)\n",
    "\n",
    "Interpreting proportions from this plot type is slightly trickier than a standard histogram; the vertical axis indicates a density of data rather than straightforward proportions. Under a KDE plot, the total area between the 0-line and the curve will be 1. The probability of an outcome falling between two values is found by computing the area under the curve that falls between those values. Making area judgments like this without computer assistance is difficult and likely to be inaccurate.\n",
    "\n",
    "Despite the fact that making specific probability judgments are not as intuitive with KDE plots as histograms, there are still reasons to use kernel density estimation. If there are relatively few data points available, KDE provides a smooth estimate of the overall distribution of data. These ideas may not be so easily conveyed through histograms, in which the large discreteness of jumps may end up misleading.\n",
    "\n",
    "It should also be noted that there is a bandwidth parameter in KDE that specifies how wide the density lumps are. Similar to bin width for histograms, we need to choose a bandwidth size that best shows the signal in the data. A too-small bandwidth can make the data look noisier than it really is, and a too-large bandwidth can smooth out useful features that we could use to make inferences about the data. It’s good to keep this in mind in case the default bandwidths chosen by your visualization software don’t look quite right or if you need to perform further investigations."
   ]
  },
  {
   "cell_type": "markdown",
   "metadata": {},
   "source": [
    "## Bivariate Plots\n",
    "\n",
    "1. Scatterplots for quantitative variable vs. quantitative variable\n",
    "2. Violin plots for quantitative variable vs. qualitative variable\n",
    "3. Clustered bar charts for quanlitative variable vs. quanlitative variable."
   ]
  },
  {
   "cell_type": "markdown",
   "metadata": {},
   "source": [
    "### Scatterplots and Correlation\n",
    "\n",
    "#### Pear Correlation Coefficient\n",
    "Statistic quantifying the stength of linear correlaiton bwtween two numneric variables.\n",
    "\n",
    "The statistic takes a value between negative one and one. Positive numbers indicate relationshiop where positive changes in one variable a associated with positive changes in the second. Negative value indicates when one variable increase the second variable decrease. Values close to the extremes of nagetive one or one indicate a stronger, more predictable relationship while values colse to zero indicate a weaker relation ship.The correlaiton coefficient doesn't necessarily tell you anything about steepness of a line that models the relationship. And most importantly the Pearson Correlation Coefficient only captures linear relationships."
   ]
  },
  {
   "cell_type": "code",
   "execution_count": 1,
   "metadata": {},
   "outputs": [],
   "source": [
    "import numpy as np\n",
    "import pandas as pd\n",
    "import matplotlib.pyplot as plt\n",
    "import seaborn as sb\n",
    "\n",
    "%matplotlib inline"
   ]
  },
  {
   "cell_type": "code",
   "execution_count": 2,
   "metadata": {
    "scrolled": false
   },
   "outputs": [
    {
     "name": "stdout",
     "output_type": "stream",
     "text": [
      "(3929, 20)\n"
     ]
    },
    {
     "data": {
      "text/html": [
       "<div>\n",
       "<style scoped>\n",
       "    .dataframe tbody tr th:only-of-type {\n",
       "        vertical-align: middle;\n",
       "    }\n",
       "\n",
       "    .dataframe tbody tr th {\n",
       "        vertical-align: top;\n",
       "    }\n",
       "\n",
       "    .dataframe thead th {\n",
       "        text-align: right;\n",
       "    }\n",
       "</style>\n",
       "<table border=\"1\" class=\"dataframe\">\n",
       "  <thead>\n",
       "    <tr style=\"text-align: right;\">\n",
       "      <th></th>\n",
       "      <th>id</th>\n",
       "      <th>make</th>\n",
       "      <th>model</th>\n",
       "      <th>year</th>\n",
       "      <th>VClass</th>\n",
       "      <th>drive</th>\n",
       "      <th>trans</th>\n",
       "      <th>fuelType</th>\n",
       "      <th>cylinders</th>\n",
       "      <th>displ</th>\n",
       "      <th>pv2</th>\n",
       "      <th>pv4</th>\n",
       "      <th>city</th>\n",
       "      <th>UCity</th>\n",
       "      <th>highway</th>\n",
       "      <th>UHighway</th>\n",
       "      <th>comb</th>\n",
       "      <th>co2</th>\n",
       "      <th>feScore</th>\n",
       "      <th>ghgScore</th>\n",
       "    </tr>\n",
       "  </thead>\n",
       "  <tbody>\n",
       "    <tr>\n",
       "      <th>0</th>\n",
       "      <td>32204</td>\n",
       "      <td>Nissan</td>\n",
       "      <td>GT-R</td>\n",
       "      <td>2013</td>\n",
       "      <td>Subcompact Cars</td>\n",
       "      <td>All-Wheel Drive</td>\n",
       "      <td>Automatic (AM6)</td>\n",
       "      <td>Premium Gasoline</td>\n",
       "      <td>6</td>\n",
       "      <td>3.8</td>\n",
       "      <td>79</td>\n",
       "      <td>0</td>\n",
       "      <td>16.4596</td>\n",
       "      <td>20.2988</td>\n",
       "      <td>22.5568</td>\n",
       "      <td>30.1798</td>\n",
       "      <td>18.7389</td>\n",
       "      <td>471</td>\n",
       "      <td>4</td>\n",
       "      <td>4</td>\n",
       "    </tr>\n",
       "    <tr>\n",
       "      <th>1</th>\n",
       "      <td>32205</td>\n",
       "      <td>Volkswagen</td>\n",
       "      <td>CC</td>\n",
       "      <td>2013</td>\n",
       "      <td>Compact Cars</td>\n",
       "      <td>Front-Wheel Drive</td>\n",
       "      <td>Automatic (AM-S6)</td>\n",
       "      <td>Premium Gasoline</td>\n",
       "      <td>4</td>\n",
       "      <td>2.0</td>\n",
       "      <td>94</td>\n",
       "      <td>0</td>\n",
       "      <td>21.8706</td>\n",
       "      <td>26.9770</td>\n",
       "      <td>31.0367</td>\n",
       "      <td>42.4936</td>\n",
       "      <td>25.2227</td>\n",
       "      <td>349</td>\n",
       "      <td>6</td>\n",
       "      <td>6</td>\n",
       "    </tr>\n",
       "    <tr>\n",
       "      <th>2</th>\n",
       "      <td>32206</td>\n",
       "      <td>Volkswagen</td>\n",
       "      <td>CC</td>\n",
       "      <td>2013</td>\n",
       "      <td>Compact Cars</td>\n",
       "      <td>Front-Wheel Drive</td>\n",
       "      <td>Automatic (S6)</td>\n",
       "      <td>Premium Gasoline</td>\n",
       "      <td>6</td>\n",
       "      <td>3.6</td>\n",
       "      <td>94</td>\n",
       "      <td>0</td>\n",
       "      <td>17.4935</td>\n",
       "      <td>21.2000</td>\n",
       "      <td>26.5716</td>\n",
       "      <td>35.1000</td>\n",
       "      <td>20.6716</td>\n",
       "      <td>429</td>\n",
       "      <td>5</td>\n",
       "      <td>5</td>\n",
       "    </tr>\n",
       "    <tr>\n",
       "      <th>3</th>\n",
       "      <td>32207</td>\n",
       "      <td>Volkswagen</td>\n",
       "      <td>CC 4motion</td>\n",
       "      <td>2013</td>\n",
       "      <td>Compact Cars</td>\n",
       "      <td>All-Wheel Drive</td>\n",
       "      <td>Automatic (S6)</td>\n",
       "      <td>Premium Gasoline</td>\n",
       "      <td>6</td>\n",
       "      <td>3.6</td>\n",
       "      <td>94</td>\n",
       "      <td>0</td>\n",
       "      <td>16.9415</td>\n",
       "      <td>20.5000</td>\n",
       "      <td>25.2190</td>\n",
       "      <td>33.5000</td>\n",
       "      <td>19.8774</td>\n",
       "      <td>446</td>\n",
       "      <td>5</td>\n",
       "      <td>5</td>\n",
       "    </tr>\n",
       "    <tr>\n",
       "      <th>4</th>\n",
       "      <td>32208</td>\n",
       "      <td>Chevrolet</td>\n",
       "      <td>Malibu eAssist</td>\n",
       "      <td>2013</td>\n",
       "      <td>Midsize Cars</td>\n",
       "      <td>Front-Wheel Drive</td>\n",
       "      <td>Automatic (S6)</td>\n",
       "      <td>Regular Gasoline</td>\n",
       "      <td>4</td>\n",
       "      <td>2.4</td>\n",
       "      <td>0</td>\n",
       "      <td>95</td>\n",
       "      <td>24.7726</td>\n",
       "      <td>31.9796</td>\n",
       "      <td>35.5340</td>\n",
       "      <td>51.8816</td>\n",
       "      <td>28.6813</td>\n",
       "      <td>310</td>\n",
       "      <td>8</td>\n",
       "      <td>8</td>\n",
       "    </tr>\n",
       "  </tbody>\n",
       "</table>\n",
       "</div>"
      ],
      "text/plain": [
       "      id        make           model  year           VClass  \\\n",
       "0  32204      Nissan            GT-R  2013  Subcompact Cars   \n",
       "1  32205  Volkswagen              CC  2013     Compact Cars   \n",
       "2  32206  Volkswagen              CC  2013     Compact Cars   \n",
       "3  32207  Volkswagen      CC 4motion  2013     Compact Cars   \n",
       "4  32208   Chevrolet  Malibu eAssist  2013     Midsize Cars   \n",
       "\n",
       "               drive              trans          fuelType  cylinders  displ  \\\n",
       "0    All-Wheel Drive    Automatic (AM6)  Premium Gasoline          6    3.8   \n",
       "1  Front-Wheel Drive  Automatic (AM-S6)  Premium Gasoline          4    2.0   \n",
       "2  Front-Wheel Drive     Automatic (S6)  Premium Gasoline          6    3.6   \n",
       "3    All-Wheel Drive     Automatic (S6)  Premium Gasoline          6    3.6   \n",
       "4  Front-Wheel Drive     Automatic (S6)  Regular Gasoline          4    2.4   \n",
       "\n",
       "   pv2  pv4     city    UCity  highway  UHighway     comb  co2  feScore  \\\n",
       "0   79    0  16.4596  20.2988  22.5568   30.1798  18.7389  471        4   \n",
       "1   94    0  21.8706  26.9770  31.0367   42.4936  25.2227  349        6   \n",
       "2   94    0  17.4935  21.2000  26.5716   35.1000  20.6716  429        5   \n",
       "3   94    0  16.9415  20.5000  25.2190   33.5000  19.8774  446        5   \n",
       "4    0   95  24.7726  31.9796  35.5340   51.8816  28.6813  310        8   \n",
       "\n",
       "   ghgScore  \n",
       "0         4  \n",
       "1         6  \n",
       "2         5  \n",
       "3         5  \n",
       "4         8  "
      ]
     },
     "execution_count": 2,
     "metadata": {},
     "output_type": "execute_result"
    }
   ],
   "source": [
    "fuel_econ = pd.read_csv('fuel_econ.csv')\n",
    "print(fuel_econ.shape())\n",
    "fuel_econ.head()"
   ]
  },
  {
   "cell_type": "markdown",
   "metadata": {},
   "source": [
    "#### plt.scatter"
   ]
  },
  {
   "cell_type": "code",
   "execution_count": 8,
   "metadata": {
    "scrolled": true
   },
   "outputs": [
    {
     "data": {
      "image/png": "[encoded data removed]",
      "text/plain": [
       "<Figure size 432x288 with 1 Axes>"
      ]
     },
     "metadata": {},
     "output_type": "display_data"
    }
   ],
   "source": [
    "# One way to create scatter plot\n",
    "plt.scatter(data = fuel_econ, x = 'displ', y = 'comb');\n",
    "#plt.xlable('Displacement:(1)');\n",
    "#plt.ylable('Combined Fuel Eff. (mpg)');"
   ]
  },
  {
   "cell_type": "code",
   "execution_count": 9,
   "metadata": {
    "scrolled": true
   },
   "outputs": [
    {
     "data": {
      "image/png": "[encoded data removed]",
      "text/plain": [
       "<Figure size 432x288 with 1 Axes>"
      ]
     },
     "metadata": {},
     "output_type": "display_data"
    }
   ],
   "source": [
    "# Another way to create scatter plot\n",
    "sb.regplot(data = fuel_econ, x = 'displ', y = 'comb');\n"
   ]
  },
  {
   "cell_type": "code",
   "execution_count": 11,
   "metadata": {
    "scrolled": true
   },
   "outputs": [
    {
     "data": {
      "image/png": "[encoded data removed]",
      "text/plain": [
       "<Figure size 432x288 with 1 Axes>"
      ]
     },
     "metadata": {},
     "output_type": "display_data"
    }
   ],
   "source": [
    "# To turn off regression line\n",
    "sb.regplot(data = fuel_econ, x = 'displ', y = 'comb', fit_reg = False);"
   ]
  },
  {
   "cell_type": "markdown",
   "metadata": {},
   "source": [
    "# Scatterplots\n",
    "If we want to inspect the relationship between two numeric variables, the standard choice of plot is the scatterplot. In a scatterplot, each data point is plotted individually as a point, its x-position corresponding to one feature value and its y-position corresponding to the second. One basic way of creating a scatterplot is through Matplotlib's scatter function:\n",
    "```python\n",
    "plt.scatter(data = df, x = 'num_var1', y = 'num_var2')\n",
    "```\n",
    "![18090210.jpg](img/18090210.jpg)\n",
    "\n",
    "We can see a generally positive relationship between the two variables, as higher values of the x-axis variable are associated with greatly increasing values of the variable plotted on the y-axis.\n",
    "\n",
    "#### Alternative Approach\n",
    "Seaborn's regplot function combines scatterplot creation with regression function fitting:\n",
    "```python\n",
    "sb.regplot(data = df, x = 'num_var1', y = 'num_var2')\n",
    "```\n",
    "![18090211.jpg](img/18090211.jpg)\n",
    "\n",
    "By default, the regression function is linear, and includes a shaded confidence region for the regression estimate. In this case, since the trend looks like a log(y) ~ x relationship, plotting the regression line on the raw units is not appropriate. If we don't care about the regression line, then we could set reg_fit = False in the regplot function call. Otherwise, if we want to plot the regression line on the observed relationship in the data, we need to transform the data, as seen in the previous lesson.\n",
    "```python\n",
    "def log_trans(x, inverse = False):\n",
    "    if not inverse:\n",
    "        return np.log10(x)\n",
    "    else:\n",
    "        return np.power(10, x)\n",
    "\n",
    "sb.regplot(df['num_var1'], df['num_var2'].apply(log_trans))\n",
    "tick_locs = [10, 20, 50, 100, 200, 500]\n",
    "plt.yticks(log_trans(tick_locs), tick_locs)\n",
    "```\n",
    "\n",
    "Note that the x- and y- values can be set as Series or arrays directly, instead of columns from a reference dataframe.\n",
    "\n",
    "![18090212.jpg](img/18090212.jpg)"
   ]
  },
  {
   "cell_type": "markdown",
   "metadata": {},
   "source": [
    "### Overplotting, Transparency, and Jitter\n",
    "If we have a very large number of points to plot or our numeric variables are discrete-valued, then it is possible that using a scatterplot straightforwardly will not be informative. The visualization will suffer from overplotting, where the high amount of overlap in points makes it difficult to see the actual relationship between the plotted variables.\n",
    "```python\n",
    "plt.scatter(data = df, x = 'disc_var1', y = 'disc_var2')\n",
    "```\n",
    "![overplotting01](img/overplotting01.jpg)\n",
    "\n",
    "In the above plot, we can infer some kind of negative relationship between the two variables, but the degree of variability in the data and strength of relationship are fairly unclear. In cases like this, we may want to employ transparency and jitter to make the scatterplot more informative. Transparency can be added to a `scatter` call by adding the \"alpha\" parameter set to a value between 0 (fully transparent, not visible) and 1 (fully opaque).\n",
    "\n",
    "```python\n",
    "plt.scatter(data = df, x = 'disc_var1', y = 'disc_var2', alpha = 1/5)\n",
    "```\n",
    "![overplotting02](img/overplotting02.jpg)\n",
    "Where more points overlap, the darker the image will be. Here, we can now see that there is a moderate negative relationship between the two numeric variables. Values of 0 and 10 on the x-axis are much rarer than the central values.\n",
    "\n",
    "As an alternative or companion to transparency, we can also add jitter to move the position of each point slightly from its true value. This is not a direct option in the `scatter` function, but is a built-in option with seaborn's `regplot` function. x- and y- jitter can be added independently, and won't affect the fit of any regression function, if made:\n",
    "```python\n",
    "sb.regplot(data = df, x = 'disc_var1', y = 'disc_var2', fit_reg = False,\n",
    "           x_jitter = 0.2, y_jitter = 0.2, scatter_kws = {'alpha' : 1/3})\n",
    "```           \n",
    "           \n",
    "The jitter settings will cause each point to be plotted in a uniform ±0.2 range of their true values. Note that transparency has been changed to be a dictionary assigned to the \"scatter_kws\" parameter. This is necessary so that transparency is specifically associated with the `scatter` component of the `regplot` function.\n",
    "![overplotting03](img/overplotting03.jpg)\n"
   ]
  },
  {
   "cell_type": "code",
   "execution_count": 3,
   "metadata": {},
   "outputs": [],
   "source": [
    "import numpy as np\n",
    "import pandas as pd\n",
    "import matplotlib.pyplot as plt\n",
    "import seaborn as sb\n",
    "\n",
    "%matplotlib inline"
   ]
  },
  {
   "cell_type": "code",
   "execution_count": 4,
   "metadata": {},
   "outputs": [
    {
     "name": "stdout",
     "output_type": "stream",
     "text": [
      "(3929, 20)\n"
     ]
    }
   ],
   "source": [
    "fuel_econ = pd.read_csv('fuel_econ.csv')\n",
    "print(fuel_econ.shape)"
   ]
  },
  {
   "cell_type": "code",
   "execution_count": 5,
   "metadata": {
    "scrolled": true
   },
   "outputs": [
    {
     "data": {
      "image/png": "[encoded data removed]",
      "text/plain": [
       "<Figure size 432x288 with 1 Axes>"
      ]
     },
     "metadata": {},
     "output_type": "display_data"
    }
   ],
   "source": [
    "plt.scatter(data= fuel_econ, x ='year', y = 'comb');"
   ]
  },
  {
   "cell_type": "code",
   "execution_count": 10,
   "metadata": {
    "scrolled": true
   },
   "outputs": [
    {
     "data": {
      "image/png": "[encoded data removed]",
      "text/plain": [
       "<Figure size 432x288 with 1 Axes>"
      ]
     },
     "metadata": {},
     "output_type": "display_data"
    }
   ],
   "source": [
    "plt.scatter(data=fuel_econ, x= 'year', y ='comb', alpha = 0.05);"
   ]
  },
  {
   "cell_type": "code",
   "execution_count": 15,
   "metadata": {
    "scrolled": true
   },
   "outputs": [
    {
     "data": {
      "image/png": "[encoded data removed]",
      "text/plain": [
       "<Figure size 432x288 with 1 Axes>"
      ]
     },
     "metadata": {},
     "output_type": "display_data"
    }
   ],
   "source": [
    "# scatter_kws\n",
    "sb.regplot(data = fuel_econ, x = 'year', y = 'comb', fit_reg = False, x_jitter = 0.1, \n",
    "          y_jitter = 0.1, scatter_kws = {'alpha' :0.03});"
   ]
  },
  {
   "cell_type": "markdown",
   "metadata": {},
   "source": [
    "### Heat Maps\n",
    "A  **heat map** is a 2-d version of the histogram that can be used as an alternative to a scatterplot. Like a scatterplot, the values of the two numeric variables to be plotted are placed on the plot axes. Similar to a histogram, the plotting area is divided into a grid and the number of points in each grid rectangle is added up. Since there won't be room for bar heights, counts are indicated instead by grid cell color. A heat map can be implemented with Matplotlib's hist2d function.\n",
    "```python\n",
    "plt.figure(figsize = [12, 5])\n",
    "\n",
    "# left plot: scatterplot of discrete data with jitter and transparency\n",
    "plt.subplot(1, 2, 1)\n",
    "sb.regplot(data = df, x = 'disc_var1', y = 'disc_var2', fit_reg = False,\n",
    "           x_jitter = 0.2, y_jitter = 0.2, scatter_kws = {'alpha' : 1/3})\n",
    "\n",
    "# right plot: heat map with bin edges between values\n",
    "plt.subplot(1, 2, 2)\n",
    "bins_x = np.arange(0.5, 10.5+1, 1)\n",
    "bins_y = np.arange(-0.5, 10.5+1, 1)\n",
    "plt.hist2d(data = df, x = 'disc_var1', y = 'disc_var2',\n",
    "           bins = [bins_x, bins_y])\n",
    "plt.colorbar();\n",
    "```\n",
    "\n",
    "Notice that since we have two variables, the \"bins\" parameter takes a list of two bin edge specifications, one for each dimension. Choosing an appropriate bin size is just as important here as it was for the univariate histogram. We add a `colorbar` function call to add a colorbar to the side of the plot, showing the mapping from counts to colors.\n",
    "![heatmap01](img/heatmap01.jpg)\n",
    "\n",
    "As the color in the heatmap gets brighter and moves from blue to yellow, the higher the count of points in the corresponding cell.\n",
    "\n",
    "Heatmaps can also be used as 2-d versions of bar charts, plotting counts on combinations of two categorical variables instead of numeric variables. There is a function in `seaborn`, heatmap, that is built for categorical heatmaps. This will be discussed in more detail later in the lesson, in the section \"Clustered Bar Charts\".\n",
    "\n",
    "#### Additional Variations\n",
    "To select a different color palette, you can set the \"cmap\" parameter in `hist2d`. The most convenient way of setting a palette is to use a string referencing a built-in Matplotlib palette. A list of valid strings can be found on [this part](https://matplotlib.org/api/pyplot_summary.html#colors-in-matplotlib) of the Pyplot API documentation. A further discussion of color in plots will be left to the next lesson. For now, I will just show an example of reversing the default \"viridis\" color palette, by setting `cmap = 'viridis_r'`.\n",
    "\n",
    "Furthermore, I would like to distinguish cells with zero counts from those with non-zero counts. The \"cmin\" parameter specifies the minimum value in a cell before it will be plotted. By adding a `cmin = 0.5` parameter to the `hist2d` call, this means that a cell will only get colored if it contains at least one point.\n",
    "\n",
    "```python\n",
    "bins_x = np.arange(0.5, 10.5+1, 1)\n",
    "bins_y = np.arange(-0.5, 10.5+1, 1)\n",
    "plt.hist2d(data = df, x = 'disc_var1', y = 'disc_var2',\n",
    "           bins = [bins_x, bins_y], cmap = 'viridis_r', cmin = 0.5)\n",
    "plt.colorbar()\n",
    "```\n",
    "![heatmap02](img/heatmap02.jpg)\n",
    "\n",
    "If you have a lot of data, you might want to add annotations to cells in the plot indicating the count of points in each cell. From `hist2d`, this requires the addition of text elements one by one, much like how text annotations were added one by one to the bar plots in the previous lesson. We can get the counts to annotate directly from what is returned by `hist2d`, which includes not just the plotting object, but an array of counts and two vectors of bin edges.\n",
    "```python\n",
    "# hist2d returns a number of different variables, including an array of counts\n",
    "bins_x = np.arange(0.5, 10.5+1, 1)\n",
    "bins_y = np.arange(-0.5, 10.5+1, 1)\n",
    "h2d = plt.hist2d(data = df, x = 'disc_var1', y = 'disc_var2',\n",
    "               bins = [bins_x, bins_y], cmap = 'viridis_r', cmin = 0.5)\n",
    "counts = h2d[0]\n",
    "\n",
    "# loop through the cell counts and add text annotations for each\n",
    "for i in range(counts.shape[0]):\n",
    "    for j in range(counts.shape[1]):\n",
    "        c = counts[i,j]\n",
    "        if c >= 7: # increase visibility on darkest cells\n",
    "            plt.text(bins_x[i]+0.5, bins_y[j]+0.5, int(c),\n",
    "                     ha = 'center', va = 'center', color = 'white')\n",
    "        elif c > 0:\n",
    "            plt.text(bins_x[i]+0.5, bins_y[j]+0.5, int(c),\n",
    "                     ha = 'center', va = 'center', color = 'black')\n",
    "```\n",
    "![heatmap03](img/heatmap03.jpg)\n",
    "\n",
    "If you have too many cells in your heat map, then the annotations will end up being too overwhelming, too much to attend to. In cases like that, it's best to leave off the annotations and let the data and colorbar speak for themselves. You're more likely to see annotations in a categorical heat map, where there are going to be fewer cells plotted. Indeed, there is a parameter built into seaborn's heatmap function for just that, as will be seen later."
   ]
  },
  {
   "cell_type": "code",
   "execution_count": 24,
   "metadata": {
    "scrolled": true
   },
   "outputs": [
    {
     "data": {
      "text/html": [
       "<div>\n",
       "<style scoped>\n",
       "    .dataframe tbody tr th:only-of-type {\n",
       "        vertical-align: middle;\n",
       "    }\n",
       "\n",
       "    .dataframe tbody tr th {\n",
       "        vertical-align: top;\n",
       "    }\n",
       "\n",
       "    .dataframe thead th {\n",
       "        text-align: right;\n",
       "    }\n",
       "</style>\n",
       "<table border=\"1\" class=\"dataframe\">\n",
       "  <thead>\n",
       "    <tr style=\"text-align: right;\">\n",
       "      <th></th>\n",
       "      <th>displ</th>\n",
       "      <th>comb</th>\n",
       "    </tr>\n",
       "  </thead>\n",
       "  <tbody>\n",
       "    <tr>\n",
       "      <th>count</th>\n",
       "      <td>3929.000000</td>\n",
       "      <td>3929.000000</td>\n",
       "    </tr>\n",
       "    <tr>\n",
       "      <th>mean</th>\n",
       "      <td>2.950573</td>\n",
       "      <td>24.791339</td>\n",
       "    </tr>\n",
       "    <tr>\n",
       "      <th>std</th>\n",
       "      <td>1.305901</td>\n",
       "      <td>6.003246</td>\n",
       "    </tr>\n",
       "    <tr>\n",
       "      <th>min</th>\n",
       "      <td>0.600000</td>\n",
       "      <td>12.821700</td>\n",
       "    </tr>\n",
       "    <tr>\n",
       "      <th>25%</th>\n",
       "      <td>2.000000</td>\n",
       "      <td>20.658100</td>\n",
       "    </tr>\n",
       "    <tr>\n",
       "      <th>50%</th>\n",
       "      <td>2.500000</td>\n",
       "      <td>24.000000</td>\n",
       "    </tr>\n",
       "    <tr>\n",
       "      <th>75%</th>\n",
       "      <td>3.600000</td>\n",
       "      <td>28.227100</td>\n",
       "    </tr>\n",
       "    <tr>\n",
       "      <th>max</th>\n",
       "      <td>7.000000</td>\n",
       "      <td>57.782400</td>\n",
       "    </tr>\n",
       "  </tbody>\n",
       "</table>\n",
       "</div>"
      ],
      "text/plain": [
       "             displ         comb\n",
       "count  3929.000000  3929.000000\n",
       "mean      2.950573    24.791339\n",
       "std       1.305901     6.003246\n",
       "min       0.600000    12.821700\n",
       "25%       2.000000    20.658100\n",
       "50%       2.500000    24.000000\n",
       "75%       3.600000    28.227100\n",
       "max       7.000000    57.782400"
      ]
     },
     "execution_count": 24,
     "metadata": {},
     "output_type": "execute_result"
    }
   ],
   "source": [
    "fuel_econ[['displ','comb']].describe()"
   ]
  },
  {
   "cell_type": "code",
   "execution_count": 19,
   "metadata": {},
   "outputs": [
    {
     "data": {
      "image/png": "[encoded data removed]",
      "text/plain": [
       "<Figure size 432x288 with 1 Axes>"
      ]
     },
     "metadata": {},
     "output_type": "display_data"
    }
   ],
   "source": [
    "plt.hist2d(data = fuel_econ, x = 'displ', y = 'comb');"
   ]
  },
  {
   "cell_type": "code",
   "execution_count": 30,
   "metadata": {},
   "outputs": [
    {
     "data": {
      "image/png": "[encoded data removed]",
      "text/plain": [
       "<Figure size 432x288 with 2 Axes>"
      ]
     },
     "metadata": {},
     "output_type": "display_data"
    }
   ],
   "source": [
    "bins_x = np.arange(0.5, 7+0.3, 0.3)\n",
    "bins_y = np.arange(10, 60+3, 3)\n",
    "plt.hist2d(data = fuel_econ, x= 'displ', y = 'comb', cmin = 0.5, \n",
    "           cmap = 'viridis_r', bins=[bins_x,bins_y]);\n",
    "plt.colorbar();\n"
   ]
  }
 ],
 "metadata": {
  "kernelspec": {
   "display_name": "Python 3",
   "language": "python",
   "name": "python3"
  },
  "language_info": {
   "codemirror_mode": {
    "name": "ipython",
    "version": 3
   },
   "file_extension": ".py",
   "mimetype": "text/x-python",
   "name": "python",
   "nbconvert_exporter": "python",
   "pygments_lexer": "ipython3",
   "version": "3.6.5"
  }
 },
 "nbformat": 4,
 "nbformat_minor": 2
}
